{
  "nbformat": 4,
  "nbformat_minor": 0,
  "metadata": {
    "colab": {
      "provenance": [],
      "authorship_tag": "ABX9TyNu6elwfZz9IiK4b4RRyx6G",
      "include_colab_link": true
    },
    "kernelspec": {
      "name": "python3",
      "display_name": "Python 3"
    },
    "language_info": {
      "name": "python"
    }
  },
  "cells": [
    {
      "cell_type": "markdown",
      "metadata": {
        "id": "view-in-github",
        "colab_type": "text"
      },
      "source": [
        "<a href=\"https://colab.research.google.com/github/Stha-Rog/Jenkins-Master-slave/blob/main/rog1.ipynb\" target=\"_parent\"><img src=\"https://colab.research.google.com/assets/colab-badge.svg\" alt=\"Open In Colab\"/></a>"
      ]
    },
    {
      "cell_type": "markdown",
      "source": [
        "---\n",
        "#### 01 - Introduction to python programming\n",
        "---"
      ],
      "metadata": {
        "id": "DUWZRo0l1pN1"
      }
    },
    {
      "cell_type": "code",
      "source": [
        "x=23.0\n",
        "y=17\n",
        "x+y"
      ],
      "metadata": {
        "colab": {
          "base_uri": "https://localhost:8080/"
        },
        "id": "M6UT8SSP-WWn",
        "outputId": "a6616766-1ac5-404c-e7b4-b1ef4b048f02"
      },
      "execution_count": null,
      "outputs": [
        {
          "output_type": "execute_result",
          "data": {
            "text/plain": [
              "40.0"
            ]
          },
          "metadata": {},
          "execution_count": 1
        }
      ]
    },
    {
      "cell_type": "code",
      "source": [
        "x='roger is 50 years old.'\n",
        "w=\"roger is running late,again\"\n",
        "x+w"
      ],
      "metadata": {
        "colab": {
          "base_uri": "https://localhost:8080/",
          "height": 35
        },
        "id": "lmRYKcB8AO9u",
        "outputId": "e1c31ace-971d-4a00-b546-07af52bc4cd2"
      },
      "execution_count": null,
      "outputs": [
        {
          "output_type": "execute_result",
          "data": {
            "text/plain": [
              "'roger is 50 years old.roger is running late,again'"
            ],
            "application/vnd.google.colaboratory.intrinsic+json": {
              "type": "string"
            }
          },
          "metadata": {},
          "execution_count": 4
        }
      ]
    },
    {
      "cell_type": "code",
      "source": [
        "#Income:$\n",
        "monthly_income=5000\n",
        "#Taxes:\n",
        "tax_rate=0.184\n",
        "#Expenses\n",
        "rent=1200\n",
        "food=320\n",
        "wifi=100\n",
        "transport=300\n",
        "misc=400"
      ],
      "metadata": {
        "id": "51XGJzUSBr2U"
      },
      "execution_count": null,
      "outputs": []
    },
    {
      "cell_type": "code",
      "source": [
        "type(tax_rate)\n",
        "float"
      ],
      "metadata": {
        "id": "zCLsyq3CCeKn"
      },
      "execution_count": null,
      "outputs": []
    },
    {
      "cell_type": "code",
      "source": [
        "type(monthly_income)\n",
        "int"
      ],
      "metadata": {
        "id": "_4itoPRsCrRR"
      },
      "execution_count": null,
      "outputs": []
    },
    {
      "cell_type": "code",
      "source": [
        "#income,after taxes:\n",
        "AT_income=monthly_income*(1-tax_rate)\n",
        "print(AT_income)"
      ],
      "metadata": {
        "colab": {
          "base_uri": "https://localhost:8080/"
        },
        "id": "aCoXbzr3C3Kn",
        "outputId": "594855fb-e3b1-42c0-e925-e94afec8d7d9"
      },
      "execution_count": null,
      "outputs": [
        {
          "output_type": "stream",
          "name": "stdout",
          "text": [
            "4080.0000000000005\n"
          ]
        }
      ]
    },
    {
      "cell_type": "code",
      "source": [
        "#Total expenses\n",
        "expenses=rent+food+wifi+transport+misc\n",
        "print(expenses)"
      ],
      "metadata": {
        "colab": {
          "base_uri": "https://localhost:8080/"
        },
        "id": "0ov2cjfUDffS",
        "outputId": "cec26dbc-0045-4a67-f6a0-f35adae7e171"
      },
      "execution_count": null,
      "outputs": [
        {
          "output_type": "stream",
          "name": "stdout",
          "text": [
            "2320\n"
          ]
        }
      ]
    },
    {
      "cell_type": "code",
      "source": [
        "# what's left?\n",
        "AT_income - expenses"
      ],
      "metadata": {
        "colab": {
          "base_uri": "https://localhost:8080/"
        },
        "id": "uradhyFSDzs5",
        "outputId": "7ddcf5b9-3c7d-4c6a-8bb8-cd884f252110"
      },
      "execution_count": null,
      "outputs": [
        {
          "output_type": "execute_result",
          "data": {
            "text/plain": [
              "1760.0000000000005"
            ]
          },
          "metadata": {},
          "execution_count": 11
        }
      ]
    },
    {
      "cell_type": "code",
      "source": [
        "#Let's declare a new variable to store that value\n",
        "max_savings=AT_income-expenses\n",
        "#Now let's calculate how long it would take:\n",
        "(expenses*6)/max_savings"
      ],
      "metadata": {
        "colab": {
          "base_uri": "https://localhost:8080/"
        },
        "id": "ygnjxg7eEtVT",
        "outputId": "53491ebb-26e7-41f4-f81e-bc2987ec4b18"
      },
      "execution_count": null,
      "outputs": [
        {
          "output_type": "execute_result",
          "data": {
            "text/plain": [
              "7.909090909090907"
            ]
          },
          "metadata": {},
          "execution_count": 13
        }
      ]
    },
    {
      "cell_type": "code",
      "source": [
        "x=23\n",
        "z='Dennis is'\n",
        "z+x"
      ],
      "metadata": {
        "colab": {
          "base_uri": "https://localhost:8080/",
          "height": 201
        },
        "id": "3hqr0aSsJ8uI",
        "outputId": "029cf025-760e-4930-e87d-c754d89fd23c"
      },
      "execution_count": null,
      "outputs": [
        {
          "output_type": "error",
          "ename": "TypeError",
          "evalue": "ignored",
          "traceback": [
            "\u001b[0;31m---------------------------------------------------------------------------\u001b[0m",
            "\u001b[0;31mTypeError\u001b[0m                                 Traceback (most recent call last)",
            "\u001b[0;32m<ipython-input-14-1c9015ea5445>\u001b[0m in \u001b[0;36m<module>\u001b[0;34m\u001b[0m\n\u001b[1;32m      1\u001b[0m \u001b[0mx\u001b[0m\u001b[0;34m=\u001b[0m\u001b[0;36m23\u001b[0m\u001b[0;34m\u001b[0m\u001b[0;34m\u001b[0m\u001b[0m\n\u001b[1;32m      2\u001b[0m \u001b[0mz\u001b[0m\u001b[0;34m=\u001b[0m\u001b[0;34m'Dennis is'\u001b[0m\u001b[0;34m\u001b[0m\u001b[0;34m\u001b[0m\u001b[0m\n\u001b[0;32m----> 3\u001b[0;31m \u001b[0mz\u001b[0m\u001b[0;34m+\u001b[0m\u001b[0mx\u001b[0m\u001b[0;34m\u001b[0m\u001b[0;34m\u001b[0m\u001b[0m\n\u001b[0m",
            "\u001b[0;31mTypeError\u001b[0m: can only concatenate str (not \"int\") to str"
          ]
        }
      ]
    },
    {
      "cell_type": "code",
      "source": [
        "z+str(x)\n"
      ],
      "metadata": {
        "colab": {
          "base_uri": "https://localhost:8080/",
          "height": 35
        },
        "id": "MH5cjbv5KvEA",
        "outputId": "3da15168-e613-44d4-f504-baa4e511010f"
      },
      "execution_count": null,
      "outputs": [
        {
          "output_type": "execute_result",
          "data": {
            "text/plain": [
              "'Dennis is23'"
            ],
            "application/vnd.google.colaboratory.intrinsic+json": {
              "type": "string"
            }
          },
          "metadata": {},
          "execution_count": 15
        }
      ]
    },
    {
      "cell_type": "code",
      "source": [
        "#Python can handle it!\n",
        "#if you pass"
      ],
      "metadata": {
        "id": "dcpBDtMbK8ft"
      },
      "execution_count": null,
      "outputs": []
    },
    {
      "cell_type": "code",
      "source": [
        "#Then there are booleans:bool used to represent a state of ON or OFF\n"
      ],
      "metadata": {
        "id": "1iVhMwsMLPF3"
      },
      "execution_count": null,
      "outputs": []
    },
    {
      "cell_type": "code",
      "source": [],
      "metadata": {
        "id": "MubOrWIHNZJ5"
      },
      "execution_count": null,
      "outputs": []
    },
    {
      "cell_type": "code",
      "source": [
        "#Solution\n",
        "#variables:P,r,n\n",
        "#Intermediate variables :Total_amount\n",
        "#Auxiliary variables:power,rate_sum,raised\n",
        "P=10000\n",
        "r=5/100\n",
        "n=36\n",
        "power=n/12\n",
        "rate_sum=1+r\n",
        "raised=rate_sum ** power\n",
        "#Total_amount= P * ((1+r) ** (n/12))\n",
        "Total_amount= P * raised\n",
        "print(Total_amount)"
      ],
      "metadata": {
        "colab": {
          "base_uri": "https://localhost:8080/"
        },
        "id": "QRu8oNVnT0BI",
        "outputId": "ab6bfdc0-22d3-491e-84ac-7af577e6b517"
      },
      "execution_count": null,
      "outputs": [
        {
          "output_type": "stream",
          "name": "stdout",
          "text": [
            "11576.250000000002\n"
          ]
        }
      ]
    },
    {
      "cell_type": "code",
      "source": [
        "#Mini project 2\n",
        "#Solution:Mini project 2\n",
        "#Variables:PI, r\n",
        "#Intermediate variables:Area\n",
        "#Auxiliary variable: raised, power\n",
        "raised=r** POWER # \n"
      ],
      "metadata": {
        "id": "wPvPuQWOYIkF"
      },
      "execution_count": null,
      "outputs": []
    },
    {
      "cell_type": "code",
      "source": [
        "#Solution: Assignment 1\n",
        "#Variables:"
      ],
      "metadata": {
        "id": "9L49epA6cjgv"
      },
      "execution_count": null,
      "outputs": []
    },
    {
      "cell_type": "code",
      "source": [
        "print('this is a code cell')\n",
        "print('this is another code cell for me')\n",
        "print('this is my third line in this same cell')"
      ],
      "metadata": {
        "colab": {
          "base_uri": "https://localhost:8080/"
        },
        "id": "jGwGvhOo4Kz7",
        "outputId": "404b8e0f-d323-480c-b3ee-5837c1a17db9"
      },
      "execution_count": null,
      "outputs": [
        {
          "output_type": "stream",
          "name": "stdout",
          "text": [
            "this is a code cell\n",
            "this is another code cell for me\n",
            "this is my third line in this same cell\n"
          ]
        }
      ]
    },
    {
      "cell_type": "code",
      "execution_count": null,
      "metadata": {
        "colab": {
          "base_uri": "https://localhost:8080/"
        },
        "id": "onfvj-FupXUV",
        "outputId": "2ac1d5de-bdab-461a-eafc-43176629dcb9"
      },
      "outputs": [
        {
          "output_type": "stream",
          "name": "stdout",
          "text": [
            "10\n"
          ]
        }
      ],
      "source": [
        "a=10\n",
        "print(a)\n"
      ]
    },
    {
      "cell_type": "code",
      "source": [
        "import keyword\n",
        "print(keyword.kwlist)"
      ],
      "metadata": {
        "colab": {
          "base_uri": "https://localhost:8080/"
        },
        "id": "VowUQ8WXziIP",
        "outputId": "850e28df-d470-4c21-a21e-3a1b903516b2"
      },
      "execution_count": null,
      "outputs": [
        {
          "output_type": "stream",
          "name": "stdout",
          "text": [
            "['False', 'None', 'True', 'and', 'as', 'assert', 'async', 'await', 'break', 'class', 'continue', 'def', 'del', 'elif', 'else', 'except', 'finally', 'for', 'from', 'global', 'if', 'import', 'in', 'is', 'lambda', 'nonlocal', 'not', 'or', 'pass', 'raise', 'return', 'try', 'while', 'with', 'yield']\n"
          ]
        }
      ]
    }
  ]
}